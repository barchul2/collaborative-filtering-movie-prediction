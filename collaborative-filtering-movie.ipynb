{
 "cells": [
  {
   "cell_type": "code",
   "execution_count": 3,
   "id": "94263ddf-dbfd-47e8-bb92-1d29f37d948f",
   "metadata": {},
   "outputs": [],
   "source": [
    "import numpy as np  \n",
    "import tensorflow as tf\n",
    "from tensorflow import keras\n",
    "import pandas as pd"
   ]
  },
  {
   "cell_type": "code",
   "execution_count": 6,
   "id": "11b2d6ee-0d0b-48d3-9fdd-355e46acca04",
   "metadata": {},
   "outputs": [],
   "source": [
    "movies_df = pd.read_csv('./ml-latest-small/movies.csv')\n",
    "ratings_df = pd.read_csv('./ml-latest-small/ratings.csv')\n"
   ]
  },
  {
   "cell_type": "markdown",
   "id": "2633965a-c616-4256-a62b-256ef5a5eed1",
   "metadata": {},
   "source": [
    "# Matricies \n",
    "\n",
    "Y = Ratings Matrix where the dimension is nm X nu\n",
    "nm = number of movies and nu is the number of users \n",
    "\n",
    "R: binary indicator matrix where R[i,j]  = 1 if user j rated movie i \n",
    "\n",
    "X: Movie Feature Matrix where X is a nm X n matrix. nm is the number of movies and n is the number of latent features. \n",
    "Each row X^i represents the ith movie's feature vector. Initially this is random and this is updated to learn. \n",
    "\n",
    "W: User feature matrix. Where W is represented by nu X n. Where nu are the users and n is the feature matrix. The purpose of this matrix \n",
    "is to encode the feature representation of each user. Each row Wj represents the user's pregerence and is learned during the traning. \n",
    "\n",
    "B: bias user vecotr which represents the bias for each user. Example some users might rate movies more generously where others are more strict.."
   ]
  },
  {
   "cell_type": "code",
   "execution_count": 10,
   "id": "eb005550-b7e1-4fb3-8934-b0c8159ef4ce",
   "metadata": {},
   "outputs": [
    {
     "name": "stdout",
     "output_type": "stream",
     "text": [
      "(9742, 3)\n",
      "   movieId                     title  \\\n",
      "0        1          Toy Story (1995)   \n",
      "1        2            Jumanji (1995)   \n",
      "2        3   Grumpier Old Men (1995)   \n",
      "3        4  Waiting to Exhale (1995)   \n",
      "\n",
      "                                        genres  \n",
      "0  Adventure|Animation|Children|Comedy|Fantasy  \n",
      "1                   Adventure|Children|Fantasy  \n",
      "2                               Comedy|Romance  \n",
      "3                         Comedy|Drama|Romance  \n"
     ]
    }
   ],
   "source": [
    "# Explore the movie and rating data \n",
    "print(movies_df.shape) \n",
    "print(movies_df.head(4))"
   ]
  },
  {
   "cell_type": "code",
   "execution_count": 11,
   "id": "1b415215-3084-4986-8332-addef3154672",
   "metadata": {},
   "outputs": [
    {
     "name": "stdout",
     "output_type": "stream",
     "text": [
      "(100836, 4)\n",
      "   userId  movieId  rating  timestamp\n",
      "0       1        1     4.0  964982703\n",
      "1       1        3     4.0  964981247\n",
      "2       1        6     4.0  964982224\n",
      "3       1       47     5.0  964983815\n"
     ]
    }
   ],
   "source": [
    "# Explore the rating data \n",
    "print(ratings_df.shape) \n",
    "print(ratings_df.head(4))"
   ]
  },
  {
   "cell_type": "code",
   "execution_count": 17,
   "id": "0e5c7d4d-70d2-46ff-840f-89fe43f09363",
   "metadata": {},
   "outputs": [
    {
     "name": "stdout",
     "output_type": "stream",
     "text": [
      "userId   1    2    3    4    5    6    7    8    9    10   ...  601  602  603  \\\n",
      "movieId                                                    ...                  \n",
      "1        4.0  0.0  0.0  0.0  4.0  0.0  4.5  0.0  0.0  0.0  ...  4.0  0.0  4.0   \n",
      "2        0.0  0.0  0.0  0.0  0.0  4.0  0.0  4.0  0.0  0.0  ...  0.0  4.0  0.0   \n",
      "\n",
      "userId   604  605  606  607  608  609  610  \n",
      "movieId                                     \n",
      "1        3.0  4.0  2.5  4.0  2.5  3.0  5.0  \n",
      "2        5.0  3.5  0.0  0.0  2.0  0.0  0.0  \n",
      "\n",
      "[2 rows x 610 columns]\n"
     ]
    }
   ],
   "source": [
    "# Create Matrix Y with the user ratings\n",
    "Y = ratings_df.pivot(index='movieId', columns='userId', values='rating').fillna(0)\n",
    "print(Y.head(2))"
   ]
  },
  {
   "cell_type": "code",
   "execution_count": 16,
   "id": "0c2a589b-9d28-4c50-9f96-447d2e354a73",
   "metadata": {},
   "outputs": [
    {
     "name": "stdout",
     "output_type": "stream",
     "text": [
      "userId   1    2    3    4    5    6    7    8    9    10   ...  601  602  603  \\\n",
      "movieId                                                    ...                  \n",
      "1          1    0    0    0    1    0    1    0    0    0  ...    1    0    1   \n",
      "2          0    0    0    0    0    1    0    1    0    0  ...    0    1    0   \n",
      "\n",
      "userId   604  605  606  607  608  609  610  \n",
      "movieId                                     \n",
      "1          1    1    1    1    1    1    1  \n",
      "2          1    1    0    0    1    0    0  \n",
      "\n",
      "[2 rows x 610 columns]\n"
     ]
    }
   ],
   "source": [
    "# Create a matrix R which indicated if the movie has been rated \n",
    "R = (Y>0).astype(int)\n",
    "print(R.head(2))"
   ]
  },
  {
   "cell_type": "code",
   "execution_count": 18,
   "id": "35b2cde8-7713-4a82-b4e7-42008e3e9a62",
   "metadata": {},
   "outputs": [],
   "source": [
    "# Convert the matricies to numpy arrays \n",
    "Y = Y.values\n",
    "R = R.values"
   ]
  },
  {
   "cell_type": "code",
   "execution_count": 30,
   "id": "895be137-fe73-439a-be0b-95979bba32f9",
   "metadata": {},
   "outputs": [],
   "source": [
    "# Define the initial features for X vector and W vector(each user gets a w vector) where X is the parameters for the movie ratings \n",
    "n_m, n_u = Y.shape\n",
    "n = 10\n",
    "\n",
    "X = np.random.randn(n_m, n) * 0.01\n",
    "W = np.random.randn(n_u, n) * 0.01\n",
    "b = np.zeros((n_u, 1))  # Start biases with zeros\n"
   ]
  },
  {
   "cell_type": "code",
   "execution_count": 31,
   "id": "5db1cc0f-006c-4b2a-97cd-d79bee78fe61",
   "metadata": {},
   "outputs": [
    {
     "name": "stdout",
     "output_type": "stream",
     "text": [
      "[[ 0.01294131  0.00067009 -0.00309424 ... -0.00538871 -0.00554665\n",
      "  -0.01520644]\n",
      " [ 0.00441273  0.00475156  0.0002048  ... -0.00376273  0.00972508\n",
      "  -0.00254479]\n",
      " [ 0.01234075 -0.00419073 -0.01123447 ...  0.01250099 -0.0114145\n",
      "   0.00019858]\n",
      " ...\n",
      " [-0.01058137  0.02264905 -0.00919793 ... -0.00302029  0.02035576\n",
      "  -0.01856   ]\n",
      " [ 0.01326253  0.00596476 -0.00681187 ...  0.00460272  0.00745181\n",
      "   0.00042316]\n",
      " [ 0.00383306 -0.01417168  0.00262409 ...  0.00828204  0.01390035\n",
      "  -0.01080509]]\n",
      "(9724, 10)\n"
     ]
    }
   ],
   "source": [
    "print(X)\n",
    "print(X.shape)"
   ]
  },
  {
   "cell_type": "code",
   "execution_count": 49,
   "id": "2434d2de-6f6c-4379-990e-661ec08b1625",
   "metadata": {},
   "outputs": [],
   "source": [
    "def cofi_cost_func_v(X, W, b, Y, R, lambda_):\n",
    "    \"\"\"\n",
    "    Returns the cost for the content-based filtering\n",
    "    Vectorized for speed. Uses tensorflow operations to be compatible with custom training loop.\n",
    "    Args:\n",
    "      X (ndarray (num_movies,num_features)): matrix of item features\n",
    "      W (ndarray (num_users,num_features)) : matrix of user parameters\n",
    "      b (ndarray (1, num_users)            : vector of user parameters\n",
    "      Y (ndarray (num_movies,num_users)    : matrix of user ratings of movies\n",
    "      R (ndarray (num_movies,num_users)    : matrix, where R(i, j) = 1 if the i-th movies was rated by the j-th user\n",
    "      lambda_ (float): regularization parameter\n",
    "    Returns:\n",
    "      J (float) : Cost\n",
    "    \"\"\"\n",
    "    j = (tf.linalg.matmul(X, tf.transpose(W)) + b - Y)*R\n",
    "    J = 0.5 * tf.reduce_sum(j**2) + (lambda_/2) * (tf.reduce_sum(X**2) + tf.reduce_sum(W**2))\n",
    "    return J"
   ]
  },
  {
   "cell_type": "code",
   "execution_count": 50,
   "id": "2fd20a72-f953-45dd-8549-362cab6e9ba1",
   "metadata": {},
   "outputs": [],
   "source": [
    "#  Useful Values\n",
    "num_movies, num_users = Y.shape\n",
    "num_features = 100\n",
    "\n",
    "# Set Initial Parameters (W, X), use tf.Variable to track these variables\n",
    "tf.random.set_seed(1234) # for consistent results\n",
    "W = tf.Variable(tf.random.normal((num_users,  num_features),dtype=tf.float64),  name='W')\n",
    "X = tf.Variable(tf.random.normal((num_movies, num_features),dtype=tf.float64),  name='X')\n",
    "b = tf.Variable(tf.random.normal((1,          num_users),   dtype=tf.float64),  name='b')\n",
    "\n",
    "# Instantiate an optimizer.\n",
    "optimizer = keras.optimizers.Adam(learning_rate=1e-1)"
   ]
  },
  {
   "cell_type": "code",
   "execution_count": 53,
   "id": "dddfa38d-dda8-4a08-a4d8-c79da6c1fc79",
   "metadata": {},
   "outputs": [
    {
     "name": "stdout",
     "output_type": "stream",
     "text": [
      "Training loss at iteration 0: 6326526.2\n",
      "Training loss at iteration 20: 322218.2\n",
      "Training loss at iteration 40: 132071.2\n",
      "Training loss at iteration 60: 68227.5\n",
      "Training loss at iteration 80: 40689.5\n",
      "Training loss at iteration 100: 27034.5\n",
      "Training loss at iteration 120: 19543.1\n",
      "Training loss at iteration 140: 15131.5\n",
      "Training loss at iteration 160: 12387.3\n",
      "Training loss at iteration 180: 10599.8\n"
     ]
    }
   ],
   "source": [
    "iterations = 200\n",
    "lambda_ = 1\n",
    "for iter in range(iterations):\n",
    "    # Use TensorFlow’s GradientTape\n",
    "    # to record the operations used to compute the cost \n",
    "    with tf.GradientTape() as tape:\n",
    "\n",
    "        # Compute the cost (forward pass included in cost)\n",
    "        cost_value = cofi_cost_func_v(X, W, b, Y, R, lambda_)\n",
    "\n",
    "    # Use the gradient tape to automatically retrieve\n",
    "    # the gradients of the trainable variables with respect to the loss\n",
    "    grads = tape.gradient( cost_value, [X,W,b] )\n",
    "\n",
    "    # Run one step of gradient descent by updating\n",
    "    # the value of the variables to minimize the loss.\n",
    "    optimizer.apply_gradients( zip(grads, [X,W,b]) )\n",
    "\n",
    "    # Log periodically.\n",
    "    if iter % 20 == 0:\n",
    "        print(f\"Training loss at iteration {iter}: {cost_value:0.1f}\")"
   ]
  },
  {
   "cell_type": "code",
   "execution_count": 60,
   "id": "6276cebf-5879-4d16-96c8-7bc88bff91a0",
   "metadata": {},
   "outputs": [],
   "source": [
    "predictions = np.dot(X, tf.transpose(W)) + b"
   ]
  },
  {
   "cell_type": "code",
   "execution_count": 61,
   "id": "f35e1851-5741-43bc-a6b3-61ecb059c2e5",
   "metadata": {},
   "outputs": [
    {
     "name": "stdout",
     "output_type": "stream",
     "text": [
      "tf.Tensor(\n",
      "[[4.11085677 2.87297785 2.77680436 ... 2.38708211 3.03170469 4.81474688]\n",
      " [3.97450107 3.29062276 0.62962705 ... 2.03565525 3.14054114 3.55933237]\n",
      " [3.98537066 3.47054158 2.23596188 ... 2.01004576 3.24968171 4.03429709]\n",
      " ...\n",
      " [1.9553131  2.89185557 2.12513447 ... 2.40907178 3.27850633 0.95426291]\n",
      " [1.95519421 2.8917428  2.12571997 ... 2.40822145 3.27846831 0.95286049]\n",
      " [2.823532   3.20764636 2.15316761 ... 2.88045942 3.35836029 2.29884179]], shape=(9724, 610), dtype=float64)\n"
     ]
    }
   ],
   "source": [
    "# so, what is predictions? Predictions is a matrix of values that form the predictions for all movies and users. \n",
    "# Each row in the predictions matrix represents a movie and each column represents that user's predicted rating \n",
    "print(predictions)"
   ]
  },
  {
   "cell_type": "code",
   "execution_count": 62,
   "id": "5bb5fe28-a10c-47cc-b3ed-3b2fb1a08b2c",
   "metadata": {},
   "outputs": [
    {
     "name": "stdout",
     "output_type": "stream",
     "text": [
      "tf.Tensor([3.44946401 3.28439259 3.84570581 ... 0.38215946 0.3811201  1.23344786], shape=(9724,), dtype=float64)\n"
     ]
    }
   ],
   "source": [
    "# Now. To get a given user's top 20 reccomended movies, we would want to get the highest rated movies for user j where the user is represented\n",
    "# in the column\n",
    "# the following are the movie predictions for user 20. \n",
    "\n",
    "predictions_j = predictions[:,20]\n",
    "print(predictions_j)"
   ]
  },
  {
   "cell_type": "code",
   "execution_count": 66,
   "id": "db23a1f0-a56b-483d-9404-7ef3e735f619",
   "metadata": {},
   "outputs": [
    {
     "name": "stdout",
     "output_type": "stream",
     "text": [
      "movieId                           56003\n",
      "title            Southland Tales (2006)\n",
      "genres     Comedy|Drama|Sci-Fi|Thriller\n",
      "Name: 6621, dtype: object\n",
      "movieId                            50\n",
      "title      Usual Suspects, The (1995)\n",
      "genres         Crime|Mystery|Thriller\n",
      "Name: 46, dtype: object\n",
      "movieId                                   357\n",
      "title      Four Weddings and a Funeral (1994)\n",
      "genres                         Comedy|Romance\n",
      "Name: 315, dtype: object\n",
      "movieId                        1224\n",
      "title                Henry V (1989)\n",
      "genres     Action|Drama|Romance|War\n",
      "Name: 925, dtype: object\n",
      "movieId                      27846\n",
      "title      Corporation, The (2003)\n",
      "genres                 Documentary\n",
      "Name: 5719, dtype: object\n",
      "movieId                     5293\n",
      "title      Changing Lanes (2002)\n",
      "genres            Drama|Thriller\n",
      "Name: 3785, dtype: object\n",
      "movieId                                                595\n",
      "title                          Beauty and the Beast (1991)\n",
      "genres     Animation|Children|Fantasy|Musical|Romance|IMAX\n",
      "Name: 512, dtype: object\n",
      "movieId                      2160\n",
      "title      Rosemary's Baby (1968)\n",
      "genres      Drama|Horror|Thriller\n",
      "Name: 1616, dtype: object\n",
      "movieId                                      4254\n",
      "title      Crocodile Dundee in Los Angeles (2001)\n",
      "genres                               Comedy|Drama\n",
      "Name: 3162, dtype: object\n",
      "movieId                                                48045\n",
      "title      Fear City: A Family-Style Comedy (La cité de l...\n",
      "genres                                                Comedy\n",
      "Name: 6298, dtype: object\n"
     ]
    }
   ],
   "source": [
    "# Sort from largest to smallest (highest predicted ratings first)\n",
    "ix = tf.argsort(predictions_j, direction=\"DESCENDING\").numpy()  # Convert tensor to numpy array\n",
    "\n",
    "# Now we have the indices of the highest predicted movies. Show the top 10 predictions.\n",
    "for i in range(10):\n",
    "    movie_index = ix[i]  # Get the index of the i-th highest-rated movie\n",
    "    print(movies_df.iloc[movie_index])  # Access the movie details using .iloc\n"
   ]
  },
  {
   "cell_type": "code",
   "execution_count": null,
   "id": "fcbc6813-63f4-4ea0-a6fa-039e6096d6ae",
   "metadata": {},
   "outputs": [],
   "source": []
  }
 ],
 "metadata": {
  "kernelspec": {
   "display_name": "machine-learning-env",
   "language": "python",
   "name": "machine-learning"
  },
  "language_info": {
   "codemirror_mode": {
    "name": "ipython",
    "version": 3
   },
   "file_extension": ".py",
   "mimetype": "text/x-python",
   "name": "python",
   "nbconvert_exporter": "python",
   "pygments_lexer": "ipython3",
   "version": "3.9.5"
  }
 },
 "nbformat": 4,
 "nbformat_minor": 5
}
